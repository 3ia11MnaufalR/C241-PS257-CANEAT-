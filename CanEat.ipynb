{
  "nbformat": 4,
  "nbformat_minor": 0,
  "metadata": {
    "colab": {
      "provenance": [],
      "gpuType": "T4"
    },
    "kernelspec": {
      "name": "python3",
      "display_name": "Python 3"
    },
    "language_info": {
      "name": "python"
    },
    "accelerator": "GPU",
    "widgets": {
      "application/vnd.jupyter.widget-state+json": {
        "736dd81389d14c708416a74a7fac5bcc": {
          "model_module": "@jupyter-widgets/controls",
          "model_name": "HBoxModel",
          "model_module_version": "1.5.0",
          "state": {
            "_dom_classes": [],
            "_model_module": "@jupyter-widgets/controls",
            "_model_module_version": "1.5.0",
            "_model_name": "HBoxModel",
            "_view_count": null,
            "_view_module": "@jupyter-widgets/controls",
            "_view_module_version": "1.5.0",
            "_view_name": "HBoxView",
            "box_style": "",
            "children": [
              "IPY_MODEL_4ce33392a4be4c0789825954870f50ca",
              "IPY_MODEL_c43c9d024ef24a0e8681b6cce3ebbd3a",
              "IPY_MODEL_30b67cbfc1ef41c3b264533ace118217"
            ],
            "layout": "IPY_MODEL_7eb83ffa522b415ba59ffbeac7768ce0"
          }
        },
        "4ce33392a4be4c0789825954870f50ca": {
          "model_module": "@jupyter-widgets/controls",
          "model_name": "HTMLModel",
          "model_module_version": "1.5.0",
          "state": {
            "_dom_classes": [],
            "_model_module": "@jupyter-widgets/controls",
            "_model_module_version": "1.5.0",
            "_model_name": "HTMLModel",
            "_view_count": null,
            "_view_module": "@jupyter-widgets/controls",
            "_view_module_version": "1.5.0",
            "_view_name": "HTMLView",
            "description": "",
            "description_tooltip": null,
            "layout": "IPY_MODEL_5b6c5e37ca1d4345aba9fc1595890710",
            "placeholder": "​",
            "style": "IPY_MODEL_958c511565604d22a05e445155b9a306",
            "value": "100%"
          }
        },
        "c43c9d024ef24a0e8681b6cce3ebbd3a": {
          "model_module": "@jupyter-widgets/controls",
          "model_name": "FloatProgressModel",
          "model_module_version": "1.5.0",
          "state": {
            "_dom_classes": [],
            "_model_module": "@jupyter-widgets/controls",
            "_model_module_version": "1.5.0",
            "_model_name": "FloatProgressModel",
            "_view_count": null,
            "_view_module": "@jupyter-widgets/controls",
            "_view_module_version": "1.5.0",
            "_view_name": "ProgressView",
            "bar_style": "success",
            "description": "",
            "description_tooltip": null,
            "layout": "IPY_MODEL_a7f963be970641f99433fd934afaf39a",
            "max": 18,
            "min": 0,
            "orientation": "horizontal",
            "style": "IPY_MODEL_9c008536027b4228926a531c03f80e53",
            "value": 18
          }
        },
        "30b67cbfc1ef41c3b264533ace118217": {
          "model_module": "@jupyter-widgets/controls",
          "model_name": "HTMLModel",
          "model_module_version": "1.5.0",
          "state": {
            "_dom_classes": [],
            "_model_module": "@jupyter-widgets/controls",
            "_model_module_version": "1.5.0",
            "_model_name": "HTMLModel",
            "_view_count": null,
            "_view_module": "@jupyter-widgets/controls",
            "_view_module_version": "1.5.0",
            "_view_name": "HTMLView",
            "description": "",
            "description_tooltip": null,
            "layout": "IPY_MODEL_87e2ea2dc8cd48659ed9908ac1f95bb8",
            "placeholder": "​",
            "style": "IPY_MODEL_3bf65400115c4e67bc9ec647642c31ba",
            "value": " 18/18 [00:00&lt;00:00, 57.34it/s]"
          }
        },
        "7eb83ffa522b415ba59ffbeac7768ce0": {
          "model_module": "@jupyter-widgets/base",
          "model_name": "LayoutModel",
          "model_module_version": "1.2.0",
          "state": {
            "_model_module": "@jupyter-widgets/base",
            "_model_module_version": "1.2.0",
            "_model_name": "LayoutModel",
            "_view_count": null,
            "_view_module": "@jupyter-widgets/base",
            "_view_module_version": "1.2.0",
            "_view_name": "LayoutView",
            "align_content": null,
            "align_items": null,
            "align_self": null,
            "border": null,
            "bottom": null,
            "display": null,
            "flex": null,
            "flex_flow": null,
            "grid_area": null,
            "grid_auto_columns": null,
            "grid_auto_flow": null,
            "grid_auto_rows": null,
            "grid_column": null,
            "grid_gap": null,
            "grid_row": null,
            "grid_template_areas": null,
            "grid_template_columns": null,
            "grid_template_rows": null,
            "height": null,
            "justify_content": null,
            "justify_items": null,
            "left": null,
            "margin": null,
            "max_height": null,
            "max_width": null,
            "min_height": null,
            "min_width": null,
            "object_fit": null,
            "object_position": null,
            "order": null,
            "overflow": null,
            "overflow_x": null,
            "overflow_y": null,
            "padding": null,
            "right": null,
            "top": null,
            "visibility": null,
            "width": null
          }
        },
        "5b6c5e37ca1d4345aba9fc1595890710": {
          "model_module": "@jupyter-widgets/base",
          "model_name": "LayoutModel",
          "model_module_version": "1.2.0",
          "state": {
            "_model_module": "@jupyter-widgets/base",
            "_model_module_version": "1.2.0",
            "_model_name": "LayoutModel",
            "_view_count": null,
            "_view_module": "@jupyter-widgets/base",
            "_view_module_version": "1.2.0",
            "_view_name": "LayoutView",
            "align_content": null,
            "align_items": null,
            "align_self": null,
            "border": null,
            "bottom": null,
            "display": null,
            "flex": null,
            "flex_flow": null,
            "grid_area": null,
            "grid_auto_columns": null,
            "grid_auto_flow": null,
            "grid_auto_rows": null,
            "grid_column": null,
            "grid_gap": null,
            "grid_row": null,
            "grid_template_areas": null,
            "grid_template_columns": null,
            "grid_template_rows": null,
            "height": null,
            "justify_content": null,
            "justify_items": null,
            "left": null,
            "margin": null,
            "max_height": null,
            "max_width": null,
            "min_height": null,
            "min_width": null,
            "object_fit": null,
            "object_position": null,
            "order": null,
            "overflow": null,
            "overflow_x": null,
            "overflow_y": null,
            "padding": null,
            "right": null,
            "top": null,
            "visibility": null,
            "width": null
          }
        },
        "958c511565604d22a05e445155b9a306": {
          "model_module": "@jupyter-widgets/controls",
          "model_name": "DescriptionStyleModel",
          "model_module_version": "1.5.0",
          "state": {
            "_model_module": "@jupyter-widgets/controls",
            "_model_module_version": "1.5.0",
            "_model_name": "DescriptionStyleModel",
            "_view_count": null,
            "_view_module": "@jupyter-widgets/base",
            "_view_module_version": "1.2.0",
            "_view_name": "StyleView",
            "description_width": ""
          }
        },
        "a7f963be970641f99433fd934afaf39a": {
          "model_module": "@jupyter-widgets/base",
          "model_name": "LayoutModel",
          "model_module_version": "1.2.0",
          "state": {
            "_model_module": "@jupyter-widgets/base",
            "_model_module_version": "1.2.0",
            "_model_name": "LayoutModel",
            "_view_count": null,
            "_view_module": "@jupyter-widgets/base",
            "_view_module_version": "1.2.0",
            "_view_name": "LayoutView",
            "align_content": null,
            "align_items": null,
            "align_self": null,
            "border": null,
            "bottom": null,
            "display": null,
            "flex": null,
            "flex_flow": null,
            "grid_area": null,
            "grid_auto_columns": null,
            "grid_auto_flow": null,
            "grid_auto_rows": null,
            "grid_column": null,
            "grid_gap": null,
            "grid_row": null,
            "grid_template_areas": null,
            "grid_template_columns": null,
            "grid_template_rows": null,
            "height": null,
            "justify_content": null,
            "justify_items": null,
            "left": null,
            "margin": null,
            "max_height": null,
            "max_width": null,
            "min_height": null,
            "min_width": null,
            "object_fit": null,
            "object_position": null,
            "order": null,
            "overflow": null,
            "overflow_x": null,
            "overflow_y": null,
            "padding": null,
            "right": null,
            "top": null,
            "visibility": null,
            "width": null
          }
        },
        "9c008536027b4228926a531c03f80e53": {
          "model_module": "@jupyter-widgets/controls",
          "model_name": "ProgressStyleModel",
          "model_module_version": "1.5.0",
          "state": {
            "_model_module": "@jupyter-widgets/controls",
            "_model_module_version": "1.5.0",
            "_model_name": "ProgressStyleModel",
            "_view_count": null,
            "_view_module": "@jupyter-widgets/base",
            "_view_module_version": "1.2.0",
            "_view_name": "StyleView",
            "bar_color": null,
            "description_width": ""
          }
        },
        "87e2ea2dc8cd48659ed9908ac1f95bb8": {
          "model_module": "@jupyter-widgets/base",
          "model_name": "LayoutModel",
          "model_module_version": "1.2.0",
          "state": {
            "_model_module": "@jupyter-widgets/base",
            "_model_module_version": "1.2.0",
            "_model_name": "LayoutModel",
            "_view_count": null,
            "_view_module": "@jupyter-widgets/base",
            "_view_module_version": "1.2.0",
            "_view_name": "LayoutView",
            "align_content": null,
            "align_items": null,
            "align_self": null,
            "border": null,
            "bottom": null,
            "display": null,
            "flex": null,
            "flex_flow": null,
            "grid_area": null,
            "grid_auto_columns": null,
            "grid_auto_flow": null,
            "grid_auto_rows": null,
            "grid_column": null,
            "grid_gap": null,
            "grid_row": null,
            "grid_template_areas": null,
            "grid_template_columns": null,
            "grid_template_rows": null,
            "height": null,
            "justify_content": null,
            "justify_items": null,
            "left": null,
            "margin": null,
            "max_height": null,
            "max_width": null,
            "min_height": null,
            "min_width": null,
            "object_fit": null,
            "object_position": null,
            "order": null,
            "overflow": null,
            "overflow_x": null,
            "overflow_y": null,
            "padding": null,
            "right": null,
            "top": null,
            "visibility": null,
            "width": null
          }
        },
        "3bf65400115c4e67bc9ec647642c31ba": {
          "model_module": "@jupyter-widgets/controls",
          "model_name": "DescriptionStyleModel",
          "model_module_version": "1.5.0",
          "state": {
            "_model_module": "@jupyter-widgets/controls",
            "_model_module_version": "1.5.0",
            "_model_name": "DescriptionStyleModel",
            "_view_count": null,
            "_view_module": "@jupyter-widgets/base",
            "_view_module_version": "1.2.0",
            "_view_name": "StyleView",
            "description_width": ""
          }
        },
        "8eb860eb3ed04690a55fdd244cabe2bc": {
          "model_module": "@jupyter-widgets/controls",
          "model_name": "HBoxModel",
          "model_module_version": "1.5.0",
          "state": {
            "_dom_classes": [],
            "_model_module": "@jupyter-widgets/controls",
            "_model_module_version": "1.5.0",
            "_model_name": "HBoxModel",
            "_view_count": null,
            "_view_module": "@jupyter-widgets/controls",
            "_view_module_version": "1.5.0",
            "_view_name": "HBoxView",
            "box_style": "",
            "children": [
              "IPY_MODEL_3b1fd690e8d345cc8543d79448861caf",
              "IPY_MODEL_fea93507deb84841bd6644dd637347c7",
              "IPY_MODEL_e1dd3f67b9954809b65b9e8575a01f52"
            ],
            "layout": "IPY_MODEL_36e22c4af2fc4dfca093ca89556f71bd"
          }
        },
        "3b1fd690e8d345cc8543d79448861caf": {
          "model_module": "@jupyter-widgets/controls",
          "model_name": "HTMLModel",
          "model_module_version": "1.5.0",
          "state": {
            "_dom_classes": [],
            "_model_module": "@jupyter-widgets/controls",
            "_model_module_version": "1.5.0",
            "_model_name": "HTMLModel",
            "_view_count": null,
            "_view_module": "@jupyter-widgets/controls",
            "_view_module_version": "1.5.0",
            "_view_name": "HTMLView",
            "description": "",
            "description_tooltip": null,
            "layout": "IPY_MODEL_573a35c6a8c74e3abbf85dd819ff1946",
            "placeholder": "​",
            "style": "IPY_MODEL_dba04d7dc446468dbbfcbf31098355a8",
            "value": "100%"
          }
        },
        "fea93507deb84841bd6644dd637347c7": {
          "model_module": "@jupyter-widgets/controls",
          "model_name": "FloatProgressModel",
          "model_module_version": "1.5.0",
          "state": {
            "_dom_classes": [],
            "_model_module": "@jupyter-widgets/controls",
            "_model_module_version": "1.5.0",
            "_model_name": "FloatProgressModel",
            "_view_count": null,
            "_view_module": "@jupyter-widgets/controls",
            "_view_module_version": "1.5.0",
            "_view_name": "ProgressView",
            "bar_style": "success",
            "description": "",
            "description_tooltip": null,
            "layout": "IPY_MODEL_993115e1afc7480ab8c0a1ec7105e39a",
            "max": 14,
            "min": 0,
            "orientation": "horizontal",
            "style": "IPY_MODEL_32928c64fa874c7d82b1faa34f496bcd",
            "value": 14
          }
        },
        "e1dd3f67b9954809b65b9e8575a01f52": {
          "model_module": "@jupyter-widgets/controls",
          "model_name": "HTMLModel",
          "model_module_version": "1.5.0",
          "state": {
            "_dom_classes": [],
            "_model_module": "@jupyter-widgets/controls",
            "_model_module_version": "1.5.0",
            "_model_name": "HTMLModel",
            "_view_count": null,
            "_view_module": "@jupyter-widgets/controls",
            "_view_module_version": "1.5.0",
            "_view_name": "HTMLView",
            "description": "",
            "description_tooltip": null,
            "layout": "IPY_MODEL_2db155f64a9e4aaf8f9394e5a31888f2",
            "placeholder": "​",
            "style": "IPY_MODEL_d1d03faafcf5412990509b7d11cbb89a",
            "value": " 14/14 [00:00&lt;00:00, 264.97it/s]"
          }
        },
        "36e22c4af2fc4dfca093ca89556f71bd": {
          "model_module": "@jupyter-widgets/base",
          "model_name": "LayoutModel",
          "model_module_version": "1.2.0",
          "state": {
            "_model_module": "@jupyter-widgets/base",
            "_model_module_version": "1.2.0",
            "_model_name": "LayoutModel",
            "_view_count": null,
            "_view_module": "@jupyter-widgets/base",
            "_view_module_version": "1.2.0",
            "_view_name": "LayoutView",
            "align_content": null,
            "align_items": null,
            "align_self": null,
            "border": null,
            "bottom": null,
            "display": null,
            "flex": null,
            "flex_flow": null,
            "grid_area": null,
            "grid_auto_columns": null,
            "grid_auto_flow": null,
            "grid_auto_rows": null,
            "grid_column": null,
            "grid_gap": null,
            "grid_row": null,
            "grid_template_areas": null,
            "grid_template_columns": null,
            "grid_template_rows": null,
            "height": null,
            "justify_content": null,
            "justify_items": null,
            "left": null,
            "margin": null,
            "max_height": null,
            "max_width": null,
            "min_height": null,
            "min_width": null,
            "object_fit": null,
            "object_position": null,
            "order": null,
            "overflow": null,
            "overflow_x": null,
            "overflow_y": null,
            "padding": null,
            "right": null,
            "top": null,
            "visibility": null,
            "width": null
          }
        },
        "573a35c6a8c74e3abbf85dd819ff1946": {
          "model_module": "@jupyter-widgets/base",
          "model_name": "LayoutModel",
          "model_module_version": "1.2.0",
          "state": {
            "_model_module": "@jupyter-widgets/base",
            "_model_module_version": "1.2.0",
            "_model_name": "LayoutModel",
            "_view_count": null,
            "_view_module": "@jupyter-widgets/base",
            "_view_module_version": "1.2.0",
            "_view_name": "LayoutView",
            "align_content": null,
            "align_items": null,
            "align_self": null,
            "border": null,
            "bottom": null,
            "display": null,
            "flex": null,
            "flex_flow": null,
            "grid_area": null,
            "grid_auto_columns": null,
            "grid_auto_flow": null,
            "grid_auto_rows": null,
            "grid_column": null,
            "grid_gap": null,
            "grid_row": null,
            "grid_template_areas": null,
            "grid_template_columns": null,
            "grid_template_rows": null,
            "height": null,
            "justify_content": null,
            "justify_items": null,
            "left": null,
            "margin": null,
            "max_height": null,
            "max_width": null,
            "min_height": null,
            "min_width": null,
            "object_fit": null,
            "object_position": null,
            "order": null,
            "overflow": null,
            "overflow_x": null,
            "overflow_y": null,
            "padding": null,
            "right": null,
            "top": null,
            "visibility": null,
            "width": null
          }
        },
        "dba04d7dc446468dbbfcbf31098355a8": {
          "model_module": "@jupyter-widgets/controls",
          "model_name": "DescriptionStyleModel",
          "model_module_version": "1.5.0",
          "state": {
            "_model_module": "@jupyter-widgets/controls",
            "_model_module_version": "1.5.0",
            "_model_name": "DescriptionStyleModel",
            "_view_count": null,
            "_view_module": "@jupyter-widgets/base",
            "_view_module_version": "1.2.0",
            "_view_name": "StyleView",
            "description_width": ""
          }
        },
        "993115e1afc7480ab8c0a1ec7105e39a": {
          "model_module": "@jupyter-widgets/base",
          "model_name": "LayoutModel",
          "model_module_version": "1.2.0",
          "state": {
            "_model_module": "@jupyter-widgets/base",
            "_model_module_version": "1.2.0",
            "_model_name": "LayoutModel",
            "_view_count": null,
            "_view_module": "@jupyter-widgets/base",
            "_view_module_version": "1.2.0",
            "_view_name": "LayoutView",
            "align_content": null,
            "align_items": null,
            "align_self": null,
            "border": null,
            "bottom": null,
            "display": null,
            "flex": null,
            "flex_flow": null,
            "grid_area": null,
            "grid_auto_columns": null,
            "grid_auto_flow": null,
            "grid_auto_rows": null,
            "grid_column": null,
            "grid_gap": null,
            "grid_row": null,
            "grid_template_areas": null,
            "grid_template_columns": null,
            "grid_template_rows": null,
            "height": null,
            "justify_content": null,
            "justify_items": null,
            "left": null,
            "margin": null,
            "max_height": null,
            "max_width": null,
            "min_height": null,
            "min_width": null,
            "object_fit": null,
            "object_position": null,
            "order": null,
            "overflow": null,
            "overflow_x": null,
            "overflow_y": null,
            "padding": null,
            "right": null,
            "top": null,
            "visibility": null,
            "width": null
          }
        },
        "32928c64fa874c7d82b1faa34f496bcd": {
          "model_module": "@jupyter-widgets/controls",
          "model_name": "ProgressStyleModel",
          "model_module_version": "1.5.0",
          "state": {
            "_model_module": "@jupyter-widgets/controls",
            "_model_module_version": "1.5.0",
            "_model_name": "ProgressStyleModel",
            "_view_count": null,
            "_view_module": "@jupyter-widgets/base",
            "_view_module_version": "1.2.0",
            "_view_name": "StyleView",
            "bar_color": null,
            "description_width": ""
          }
        },
        "2db155f64a9e4aaf8f9394e5a31888f2": {
          "model_module": "@jupyter-widgets/base",
          "model_name": "LayoutModel",
          "model_module_version": "1.2.0",
          "state": {
            "_model_module": "@jupyter-widgets/base",
            "_model_module_version": "1.2.0",
            "_model_name": "LayoutModel",
            "_view_count": null,
            "_view_module": "@jupyter-widgets/base",
            "_view_module_version": "1.2.0",
            "_view_name": "LayoutView",
            "align_content": null,
            "align_items": null,
            "align_self": null,
            "border": null,
            "bottom": null,
            "display": null,
            "flex": null,
            "flex_flow": null,
            "grid_area": null,
            "grid_auto_columns": null,
            "grid_auto_flow": null,
            "grid_auto_rows": null,
            "grid_column": null,
            "grid_gap": null,
            "grid_row": null,
            "grid_template_areas": null,
            "grid_template_columns": null,
            "grid_template_rows": null,
            "height": null,
            "justify_content": null,
            "justify_items": null,
            "left": null,
            "margin": null,
            "max_height": null,
            "max_width": null,
            "min_height": null,
            "min_width": null,
            "object_fit": null,
            "object_position": null,
            "order": null,
            "overflow": null,
            "overflow_x": null,
            "overflow_y": null,
            "padding": null,
            "right": null,
            "top": null,
            "visibility": null,
            "width": null
          }
        },
        "d1d03faafcf5412990509b7d11cbb89a": {
          "model_module": "@jupyter-widgets/controls",
          "model_name": "DescriptionStyleModel",
          "model_module_version": "1.5.0",
          "state": {
            "_model_module": "@jupyter-widgets/controls",
            "_model_module_version": "1.5.0",
            "_model_name": "DescriptionStyleModel",
            "_view_count": null,
            "_view_module": "@jupyter-widgets/base",
            "_view_module_version": "1.2.0",
            "_view_name": "StyleView",
            "description_width": ""
          }
        }
      }
    }
  },
  "cells": [
    {
      "cell_type": "markdown",
      "source": [
        "# CanEat\n",
        "**fresh and rotten classification**\n",
        "\n",
        "This project will explores the development of an automated fresh and rotten classification system using Machine Learning."
      ],
      "metadata": {
        "id": "kpP0cakU2o-i"
      }
    },
    {
      "cell_type": "markdown",
      "source": [
        "## Setup and Download The Dataset"
      ],
      "metadata": {
        "id": "VpjizoQl3InO"
      }
    },
    {
      "cell_type": "code",
      "execution_count": 1,
      "metadata": {
        "id": "VNuBRl-ACkqI"
      },
      "outputs": [],
      "source": [
        "!pip install -q kaggle"
      ]
    },
    {
      "cell_type": "code",
      "source": [
        "!mkdir ~/.kaggle"
      ],
      "metadata": {
        "id": "PAEJfPWCFONt"
      },
      "execution_count": 2,
      "outputs": []
    },
    {
      "cell_type": "code",
      "source": [
        "!cp kaggle.json ~/.kaggle"
      ],
      "metadata": {
        "id": "Z3YTNkVQF5jz"
      },
      "execution_count": 3,
      "outputs": []
    },
    {
      "cell_type": "code",
      "source": [
        "!chmod 600 ~/.kaggle/kaggle.json"
      ],
      "metadata": {
        "id": "oQZ_Avh5GgC2"
      },
      "execution_count": 4,
      "outputs": []
    },
    {
      "cell_type": "code",
      "source": [
        "!kaggle datasets list"
      ],
      "metadata": {
        "colab": {
          "base_uri": "https://localhost:8080/"
        },
        "id": "DVMvcYIpHKNR",
        "outputId": "9fa3543b-df48-4776-f6d8-c0ee3682eec0"
      },
      "execution_count": 5,
      "outputs": [
        {
          "output_type": "stream",
          "name": "stdout",
          "text": [
            "ref                                                                 title                                                size  lastUpdated          downloadCount  voteCount  usabilityRating  \n",
            "------------------------------------------------------------------  --------------------------------------------------  -----  -------------------  -------------  ---------  ---------------  \n",
            "rahulvyasm/netflix-movies-and-tv-shows                              Netflix Movies and TV Shows                           1MB  2024-04-10 09:48:38          24881        529  1.0              \n",
            "dem0nking/video-game-ratings-dataset                                Video Game Ratings Dataset                            2KB  2024-05-23 18:06:30            530         25  1.0              \n",
            "kanchana1990/perfume-e-commerce-dataset-2024                        Perfume E-Commerce Dataset 2024                     106KB  2024-05-24 18:53:32            501         25  1.0              \n",
            "jainaru/marvel-movies-box-office-data                               MARVEL Movies -Box Office Data 🦸‍♂⍟💥                  2KB  2024-05-24 10:18:29            491         24  1.0              \n",
            "emirhanai/social-media-usage-and-emotional-well-being               Social Media Usage and Emotional Well-Being           8KB  2024-05-19 18:25:52           1866         36  1.0              \n",
            "jainaru/thyroid-disease-data                                        Thyroid Disease Data                                  3KB  2024-05-10 12:06:31           3294         78  1.0              \n",
            "girumwondemagegn/dataset-for-renewable-energy-systems               Dataset for renewable energy systems                853KB  2024-05-17 23:51:25           1082         32  1.0              \n",
            "mayankanand2701/zomato-stock-price-dataset                          Zomato Stock Price Dataset 📊🍗🏨🍴                      13KB  2024-05-23 06:42:34            947         25  1.0              \n",
            "yorkyong/football-player-statistics                                 Football Player Statistics                          312KB  2024-05-23 14:30:20            720         26  1.0              \n",
            "zeesolver/spotfy                                                    Spotify Songs Album                                  47KB  2024-05-10 09:21:57           1444         25  1.0              \n",
            "sahirmaharajj/school-student-daily-attendance                       School Student Daily Attendance                       2MB  2024-04-29 19:29:56           6972        143  1.0              \n",
            "prasad22/weather-data                                               Weather Data                                         43MB  2024-05-18 14:27:35           1572         43  1.0              \n",
            "jainaru/world-happiness-report-2024-yearly-updated                  World Happiness Report- 2024                         62KB  2024-05-15 19:04:34           2710         47  1.0              \n",
            "vladimirmijatovic/data-scientists-salaries-worldwide-annual-survey  Data Scientists Salaries Worldwide - Annual Survey   51KB  2024-05-19 19:41:14           1244         37  1.0              \n",
            "jainaru/electric-vehicle-population                                 Electric Vehicle Data                                 6MB  2024-05-21 18:40:16           1081         32  1.0              \n",
            "shubhammaindola/tmdb-top-rated-movies-dataset                       IMDB Top Rated Movies Dataset                         1MB  2024-05-01 14:48:21           1084         26  1.0              \n",
            "amanbarthwal/imdb-movies-data                                       IMDB Movies Dataset                                   8MB  2024-05-16 18:43:48           1951         36  1.0              \n",
            "atharvataras/shein-footwear-dataset                                 Shein Footwear Dataset                              232KB  2024-05-18 07:09:43            796         21  1.0              \n",
            "sahirmaharajj/college-exam-results-sat                              College Exam Results (SAT)                           10KB  2024-05-06 14:37:56           3668         58  1.0              \n",
            "aadarshvelu/aids-virus-infection-prediction                         AIDS Virus Infection Prediction 💉                     2MB  2024-04-28 03:22:18           4314         86  1.0              \n"
          ]
        }
      ]
    },
    {
      "cell_type": "code",
      "source": [
        "!kaggle datasets download -d 'swoyam2609/fresh-and-stale-classification'"
      ],
      "metadata": {
        "colab": {
          "base_uri": "https://localhost:8080/"
        },
        "id": "7EHAdBfRHL0N",
        "outputId": "e7531476-3e1b-4887-b59a-5f405fd4a492"
      },
      "execution_count": 6,
      "outputs": [
        {
          "output_type": "stream",
          "name": "stdout",
          "text": [
            "Dataset URL: https://www.kaggle.com/datasets/swoyam2609/fresh-and-stale-classification\n",
            "License(s): Community Data License Agreement - Permissive - Version 1.0\n",
            "Downloading fresh-and-stale-classification.zip to /content\n",
            "100% 2.83G/2.84G [00:36<00:00, 141MB/s]\n",
            "100% 2.84G/2.84G [00:37<00:00, 82.3MB/s]\n"
          ]
        }
      ]
    },
    {
      "cell_type": "code",
      "source": [
        "import zipfile"
      ],
      "metadata": {
        "id": "WdseWes3Ilkh"
      },
      "execution_count": 7,
      "outputs": []
    },
    {
      "cell_type": "code",
      "source": [
        "dataset_zip = zipfile.ZipFile('fresh-and-stale-classification.zip', 'r')\n",
        "\n",
        "dataset_zip.extractall()\n",
        "\n",
        "dataset_zip.close()"
      ],
      "metadata": {
        "id": "1KTqx_L4IoV_"
      },
      "execution_count": 8,
      "outputs": []
    },
    {
      "cell_type": "markdown",
      "source": [
        "## Import Packages"
      ],
      "metadata": {
        "id": "P5CtPFfm35v3"
      }
    },
    {
      "cell_type": "code",
      "source": [
        "import os\n",
        "import shutil\n",
        "import matplotlib.pyplot as plt\n",
        "import tensorflow as tf\n",
        "import pandas as pd\n",
        "from tqdm.notebook import tqdm\n",
        "from tensorflow.keras.preprocessing.image import ImageDataGenerator\n",
        "from tensorflow.keras.models import Sequential\n",
        "from tensorflow.keras.layers import Conv2D, MaxPooling2D, Flatten, Dense, Dropout\n",
        "from tensorflow.keras.optimizers import Adam\n",
        "from tensorflow.keras.callbacks import EarlyStopping"
      ],
      "metadata": {
        "id": "n6LIVLgbJ6eF"
      },
      "execution_count": 9,
      "outputs": []
    },
    {
      "cell_type": "markdown",
      "source": [
        "## Prepare The Dataset"
      ],
      "metadata": {
        "id": "DDiB2amx4Dw6"
      }
    },
    {
      "cell_type": "code",
      "source": [
        "# Define the directories\n",
        "train_dir = '/content/dataset/Train'\n",
        "validation_dir = '/content/dataset/Test'\n",
        "\n",
        "# Define function to load data\n",
        "def load_data(PATH):\n",
        "    filenames, fruit, fresh = [], [], []\n",
        "    for file in tqdm(os.listdir(PATH)):\n",
        "        for img in os.listdir(os.path.join(PATH, file)):\n",
        "            fresh.append(0 if file[0] == 'f' else 1)\n",
        "            fruit.append(file[5:] if file[0] == 'f' else file[6:])\n",
        "            filenames.append(os.path.join(PATH, file, img))\n",
        "    df = pd.DataFrame({\n",
        "        'filename': filenames,\n",
        "        'fruit': fruit,\n",
        "        'fresh': fresh\n",
        "    })\n",
        "    return df\n",
        "\n",
        "# Load training and validation data\n",
        "df_train = load_data(train_dir).sample(frac=1)\n",
        "df_test = load_data(validation_dir).sample(frac=1)"
      ],
      "metadata": {
        "colab": {
          "base_uri": "https://localhost:8080/",
          "height": 81,
          "referenced_widgets": [
            "736dd81389d14c708416a74a7fac5bcc",
            "4ce33392a4be4c0789825954870f50ca",
            "c43c9d024ef24a0e8681b6cce3ebbd3a",
            "30b67cbfc1ef41c3b264533ace118217",
            "7eb83ffa522b415ba59ffbeac7768ce0",
            "5b6c5e37ca1d4345aba9fc1595890710",
            "958c511565604d22a05e445155b9a306",
            "a7f963be970641f99433fd934afaf39a",
            "9c008536027b4228926a531c03f80e53",
            "87e2ea2dc8cd48659ed9908ac1f95bb8",
            "3bf65400115c4e67bc9ec647642c31ba",
            "8eb860eb3ed04690a55fdd244cabe2bc",
            "3b1fd690e8d345cc8543d79448861caf",
            "fea93507deb84841bd6644dd637347c7",
            "e1dd3f67b9954809b65b9e8575a01f52",
            "36e22c4af2fc4dfca093ca89556f71bd",
            "573a35c6a8c74e3abbf85dd819ff1946",
            "dba04d7dc446468dbbfcbf31098355a8",
            "993115e1afc7480ab8c0a1ec7105e39a",
            "32928c64fa874c7d82b1faa34f496bcd",
            "2db155f64a9e4aaf8f9394e5a31888f2",
            "d1d03faafcf5412990509b7d11cbb89a"
          ]
        },
        "id": "5POb1mVRP4uw",
        "outputId": "0dff178a-762b-47d3-e3a8-eea4cbfa4be7"
      },
      "execution_count": 10,
      "outputs": [
        {
          "output_type": "display_data",
          "data": {
            "text/plain": [
              "  0%|          | 0/18 [00:00<?, ?it/s]"
            ],
            "application/vnd.jupyter.widget-view+json": {
              "version_major": 2,
              "version_minor": 0,
              "model_id": "736dd81389d14c708416a74a7fac5bcc"
            }
          },
          "metadata": {}
        },
        {
          "output_type": "display_data",
          "data": {
            "text/plain": [
              "  0%|          | 0/14 [00:00<?, ?it/s]"
            ],
            "application/vnd.jupyter.widget-view+json": {
              "version_major": 2,
              "version_minor": 0,
              "model_id": "8eb860eb3ed04690a55fdd244cabe2bc"
            }
          },
          "metadata": {}
        }
      ]
    },
    {
      "cell_type": "code",
      "source": [
        "df_train.info()\n",
        "df_test.info()"
      ],
      "metadata": {
        "colab": {
          "base_uri": "https://localhost:8080/"
        },
        "id": "HQWK-ucqVefa",
        "outputId": "b09bbd50-6ec9-42dc-da42-236757630070"
      },
      "execution_count": 11,
      "outputs": [
        {
          "output_type": "stream",
          "name": "stdout",
          "text": [
            "<class 'pandas.core.frame.DataFrame'>\n",
            "Index: 23619 entries, 19508 to 11834\n",
            "Data columns (total 3 columns):\n",
            " #   Column    Non-Null Count  Dtype \n",
            "---  ------    --------------  ----- \n",
            " 0   filename  23619 non-null  object\n",
            " 1   fruit     23619 non-null  object\n",
            " 2   fresh     23619 non-null  int64 \n",
            "dtypes: int64(1), object(2)\n",
            "memory usage: 738.1+ KB\n",
            "<class 'pandas.core.frame.DataFrame'>\n",
            "Index: 6738 entries, 274 to 6571\n",
            "Data columns (total 3 columns):\n",
            " #   Column    Non-Null Count  Dtype \n",
            "---  ------    --------------  ----- \n",
            " 0   filename  6738 non-null   object\n",
            " 1   fruit     6738 non-null   object\n",
            " 2   fresh     6738 non-null   int64 \n",
            "dtypes: int64(1), object(2)\n",
            "memory usage: 210.6+ KB\n"
          ]
        }
      ]
    },
    {
      "cell_type": "code",
      "source": [
        "import shutil\n",
        "\n",
        "# Define the mapping of incorrect classes name\n",
        "rename_mapping = {\n",
        "    'freshpatato': 'freshpotato',\n",
        "    'freshtamto': 'freshtomato',\n",
        "    'rottenpatato': 'rottenpotato',\n",
        "    'rottentamto': 'rottentomato'\n",
        "}\n",
        "\n",
        "# Rename the directories\n",
        "for incorrect_name, correct_name in rename_mapping.items():\n",
        "    incorrect_path = os.path.join(validation_dir, incorrect_name)\n",
        "    correct_path = os.path.join(validation_dir, correct_name)\n",
        "    if os.path.exists(incorrect_path):\n",
        "        shutil.move(incorrect_path, correct_path)\n",
        "\n",
        "# Verify the corrected directories\n",
        "print(\"Corrected Validation set classes:\", os.listdir(validation_dir))"
      ],
      "metadata": {
        "colab": {
          "base_uri": "https://localhost:8080/"
        },
        "id": "XWCCJYE6ivlK",
        "outputId": "fc0a2a48-38b4-4b1c-d940-f041ec95a002"
      },
      "execution_count": 12,
      "outputs": [
        {
          "output_type": "stream",
          "name": "stdout",
          "text": [
            "Corrected Validation set classes: ['rottenpotato', 'rottenokra', 'rottencucumber', 'freshokra', 'rottentomato', 'freshtomato', 'rottenbanana', 'freshpotato', 'freshbanana', 'freshcucumber', 'freshapples', 'rottenoranges', 'freshoranges', 'rottenapples']\n"
          ]
        }
      ]
    },
    {
      "cell_type": "code",
      "source": [
        "# Filter out unnecessary classes\n",
        "unnecessary_classes = ['bittergroud', 'capsicum', 'cucumber']\n",
        "for cls in unnecessary_classes:\n",
        "    shutil.rmtree(os.path.join(train_dir, 'fresh' + cls), ignore_errors=True)\n",
        "    shutil.rmtree(os.path.join(train_dir, 'rotten' + cls), ignore_errors=True)\n",
        "    shutil.rmtree(os.path.join(validation_dir, 'fresh' + cls), ignore_errors=True)\n",
        "    shutil.rmtree(os.path.join(validation_dir, 'rotten' + cls), ignore_errors=True)\n",
        "\n",
        "# Verify the classes\n",
        "print(\"Training set classes:\", os.listdir(train_dir))\n",
        "print(\"Validation set classes:\", os.listdir(validation_dir))"
      ],
      "metadata": {
        "colab": {
          "base_uri": "https://localhost:8080/"
        },
        "id": "9FFqQh8mlQGV",
        "outputId": "97241927-980d-490e-8c8a-b13fdc7d7715"
      },
      "execution_count": 13,
      "outputs": [
        {
          "output_type": "stream",
          "name": "stdout",
          "text": [
            "Training set classes: ['rottenpotato', 'rottenokra', 'freshokra', 'rottentomato', 'freshtomato', 'rottenbanana', 'freshpotato', 'freshbanana', 'freshapples', 'rottenoranges', 'freshoranges', 'rottenapples']\n",
            "Validation set classes: ['rottenpotato', 'rottenokra', 'freshokra', 'rottentomato', 'freshtomato', 'rottenbanana', 'freshpotato', 'freshbanana', 'freshapples', 'rottenoranges', 'freshoranges', 'rottenapples']\n"
          ]
        }
      ]
    },
    {
      "cell_type": "markdown",
      "source": [
        "## Data Preprocessing"
      ],
      "metadata": {
        "id": "WtLOcmYE4OMS"
      }
    },
    {
      "cell_type": "code",
      "source": [
        "train_generator = ImageDataGenerator(rescale=1./255,\n",
        "                                     rotation_range=40,\n",
        "                                     width_shift_range=0.2,\n",
        "                                     height_shift_range=0.2,\n",
        "                                     shear_range=0.2,\n",
        "                                     zoom_range=0.2,\n",
        "                                     horizontal_flip=True,\n",
        "                                     fill_mode='nearest').flow_from_directory(\n",
        "                                         directory=train_dir,\n",
        "                                         batch_size=50,\n",
        "                                         class_mode='categorical',\n",
        "                                         target_size=(150, 150))\n",
        "\n",
        "validation_generator = ImageDataGenerator(rescale=1./255).flow_from_directory(\n",
        "    directory=validation_dir,\n",
        "    batch_size=20,\n",
        "    class_mode='categorical',\n",
        "    target_size=(150, 150))\n",
        "\n",
        "# Verify the classes in the generators\n",
        "print(\"Training set classes:\", train_generator.class_indices)\n",
        "print(\"Validation set classes:\", validation_generator.class_indices)\n",
        "\n",
        "# Generate a batch of data\n",
        "x_batch, y_batch = train_generator.next()\n",
        "\n",
        "# Print the shape and first few labels\n",
        "print(\"Labels shape:\", y_batch.shape)\n",
        "print(\"First few labels:\", y_batch[:5])"
      ],
      "metadata": {
        "colab": {
          "base_uri": "https://localhost:8080/"
        },
        "id": "7vWRk44ER0vq",
        "outputId": "ba102d9c-0800-4789-9dc0-6b73734a5f2f"
      },
      "execution_count": 21,
      "outputs": [
        {
          "output_type": "stream",
          "name": "stdout",
          "text": [
            "Found 20127 images belonging to 12 classes.\n",
            "Found 6204 images belonging to 12 classes.\n",
            "Training set classes: {'freshapples': 0, 'freshbanana': 1, 'freshokra': 2, 'freshoranges': 3, 'freshpotato': 4, 'freshtomato': 5, 'rottenapples': 6, 'rottenbanana': 7, 'rottenokra': 8, 'rottenoranges': 9, 'rottenpotato': 10, 'rottentomato': 11}\n",
            "Validation set classes: {'freshapples': 0, 'freshbanana': 1, 'freshokra': 2, 'freshoranges': 3, 'freshpotato': 4, 'freshtomato': 5, 'rottenapples': 6, 'rottenbanana': 7, 'rottenokra': 8, 'rottenoranges': 9, 'rottenpotato': 10, 'rottentomato': 11}\n",
            "Labels shape: (50, 12)\n",
            "First few labels: [[0. 0. 0. 0. 0. 0. 1. 0. 0. 0. 0. 0.]\n",
            " [0. 0. 0. 1. 0. 0. 0. 0. 0. 0. 0. 0.]\n",
            " [0. 1. 0. 0. 0. 0. 0. 0. 0. 0. 0. 0.]\n",
            " [0. 0. 0. 0. 0. 0. 0. 0. 0. 0. 1. 0.]\n",
            " [0. 0. 0. 1. 0. 0. 0. 0. 0. 0. 0. 0.]]\n"
          ]
        }
      ]
    },
    {
      "cell_type": "markdown",
      "source": [
        "## Build and Train The Model"
      ],
      "metadata": {
        "id": "XyVDCkp-4Z6R"
      }
    },
    {
      "cell_type": "code",
      "source": [
        "def create_cnn_model(num_classes):\n",
        "    model = tf.keras.models.Sequential([\n",
        "        # Convolutional Layer 1\n",
        "        Conv2D(32, (3, 3), activation='relu', input_shape=(150, 150, 3)),\n",
        "        MaxPooling2D(2, 2),\n",
        "\n",
        "        # Convolutional Layer 2\n",
        "        Conv2D(64, (3, 3), activation='relu'),\n",
        "        MaxPooling2D(2, 2),\n",
        "\n",
        "        # Convolutional Layer 3\n",
        "        Conv2D(128, (3, 3), activation='relu'),\n",
        "        MaxPooling2D(2, 2),\n",
        "\n",
        "        # Convolutional Layer 4\n",
        "        Conv2D(128, (3, 3), activation='relu'),\n",
        "        MaxPooling2D(2, 2),\n",
        "\n",
        "        # Flatten the output\n",
        "        Flatten(),\n",
        "\n",
        "        # Dense Layer 1\n",
        "        Dense(512, activation='relu'),\n",
        "\n",
        "        # Dropout for regularization\n",
        "        Dropout(0.5),\n",
        "\n",
        "        # Output Layer\n",
        "        Dense(num_classes, activation='softmax')  # 12 classes\n",
        "    ])\n",
        "\n",
        "    model.compile(optimizer='adam',\n",
        "                  loss='categorical_crossentropy',\n",
        "                  metrics=['accuracy'])\n",
        "\n",
        "    return model"
      ],
      "metadata": {
        "id": "4ZRhL3czfp30"
      },
      "execution_count": 22,
      "outputs": []
    },
    {
      "cell_type": "code",
      "source": [
        "num_classes = len(train_generator.class_indices)\n",
        "model = create_cnn_model(num_classes)\n",
        "model.summary()"
      ],
      "metadata": {
        "colab": {
          "base_uri": "https://localhost:8080/"
        },
        "id": "_1fIwhr3f6WM",
        "outputId": "72ad2379-e906-4526-f829-f9194a559147"
      },
      "execution_count": 24,
      "outputs": [
        {
          "output_type": "stream",
          "name": "stdout",
          "text": [
            "Model: \"sequential_1\"\n",
            "_________________________________________________________________\n",
            " Layer (type)                Output Shape              Param #   \n",
            "=================================================================\n",
            " conv2d_4 (Conv2D)           (None, 148, 148, 32)      896       \n",
            "                                                                 \n",
            " max_pooling2d_4 (MaxPoolin  (None, 74, 74, 32)        0         \n",
            " g2D)                                                            \n",
            "                                                                 \n",
            " conv2d_5 (Conv2D)           (None, 72, 72, 64)        18496     \n",
            "                                                                 \n",
            " max_pooling2d_5 (MaxPoolin  (None, 36, 36, 64)        0         \n",
            " g2D)                                                            \n",
            "                                                                 \n",
            " conv2d_6 (Conv2D)           (None, 34, 34, 128)       73856     \n",
            "                                                                 \n",
            " max_pooling2d_6 (MaxPoolin  (None, 17, 17, 128)       0         \n",
            " g2D)                                                            \n",
            "                                                                 \n",
            " conv2d_7 (Conv2D)           (None, 15, 15, 128)       147584    \n",
            "                                                                 \n",
            " max_pooling2d_7 (MaxPoolin  (None, 7, 7, 128)         0         \n",
            " g2D)                                                            \n",
            "                                                                 \n",
            " flatten_1 (Flatten)         (None, 6272)              0         \n",
            "                                                                 \n",
            " dense_2 (Dense)             (None, 512)               3211776   \n",
            "                                                                 \n",
            " dropout_1 (Dropout)         (None, 512)               0         \n",
            "                                                                 \n",
            " dense_3 (Dense)             (None, 12)                6156      \n",
            "                                                                 \n",
            "=================================================================\n",
            "Total params: 3458764 (13.19 MB)\n",
            "Trainable params: 3458764 (13.19 MB)\n",
            "Non-trainable params: 0 (0.00 Byte)\n",
            "_________________________________________________________________\n"
          ]
        }
      ]
    },
    {
      "cell_type": "code",
      "source": [
        "# early_stop = EarlyStopping(monitor='val_loss', patience=5, restore_best_weights=True)\n",
        "\n",
        "# class myCallback(tf.keras.callbacks.Callback):\n",
        "#   def on_epoch_end(self, epoch, logs={}):\n",
        "#     if(logs.get('accuracy')>0.999):\n",
        "#       print(\"\\nReached 99.9% accuracy so cancelling training!\")\n",
        "#       self.model.stop_training = True\n",
        "\n",
        "# callbacks = myCallback()"
      ],
      "metadata": {
        "id": "0EYNNhtGgZju"
      },
      "execution_count": null,
      "outputs": []
    },
    {
      "cell_type": "code",
      "source": [
        "history = model.fit(train_generator,\n",
        "                    validation_data=validation_generator,\n",
        "                    epochs=50,\n",
        "                    verbose=1)\n",
        "                    # callbacks=[callbacks])"
      ],
      "metadata": {
        "colab": {
          "base_uri": "https://localhost:8080/"
        },
        "id": "M0Etd06CgmRX",
        "outputId": "bd521f78-07f5-4c43-8f05-b13a5557a439"
      },
      "execution_count": 25,
      "outputs": [
        {
          "output_type": "stream",
          "name": "stdout",
          "text": [
            "Epoch 1/50\n",
            "403/403 [==============================] - 205s 489ms/step - loss: 1.1546 - accuracy: 0.5978 - val_loss: 0.5780 - val_accuracy: 0.7945\n",
            "Epoch 2/50\n",
            "403/403 [==============================] - 191s 474ms/step - loss: 0.6678 - accuracy: 0.7567 - val_loss: 0.4528 - val_accuracy: 0.8312\n",
            "Epoch 3/50\n",
            "403/403 [==============================] - 191s 474ms/step - loss: 0.5129 - accuracy: 0.8151 - val_loss: 0.3210 - val_accuracy: 0.8804\n",
            "Epoch 4/50\n",
            "403/403 [==============================] - 192s 477ms/step - loss: 0.4242 - accuracy: 0.8459 - val_loss: 0.2482 - val_accuracy: 0.9064\n",
            "Epoch 5/50\n",
            "403/403 [==============================] - 191s 474ms/step - loss: 0.3733 - accuracy: 0.8616 - val_loss: 0.3283 - val_accuracy: 0.8746\n",
            "Epoch 6/50\n",
            "403/403 [==============================] - 191s 474ms/step - loss: 0.3332 - accuracy: 0.8780 - val_loss: 0.3021 - val_accuracy: 0.8810\n",
            "Epoch 7/50\n",
            "403/403 [==============================] - 192s 476ms/step - loss: 0.3046 - accuracy: 0.8884 - val_loss: 0.1937 - val_accuracy: 0.9252\n",
            "Epoch 8/50\n",
            "403/403 [==============================] - 192s 476ms/step - loss: 0.2795 - accuracy: 0.8982 - val_loss: 0.2005 - val_accuracy: 0.9244\n",
            "Epoch 9/50\n",
            "403/403 [==============================] - 197s 488ms/step - loss: 0.2532 - accuracy: 0.9101 - val_loss: 0.2997 - val_accuracy: 0.8894\n",
            "Epoch 10/50\n",
            "403/403 [==============================] - 210s 521ms/step - loss: 0.2393 - accuracy: 0.9139 - val_loss: 0.1637 - val_accuracy: 0.9378\n",
            "Epoch 11/50\n",
            "403/403 [==============================] - 191s 473ms/step - loss: 0.2147 - accuracy: 0.9220 - val_loss: 0.2168 - val_accuracy: 0.9144\n",
            "Epoch 12/50\n",
            "403/403 [==============================] - 191s 474ms/step - loss: 0.2123 - accuracy: 0.9234 - val_loss: 0.1845 - val_accuracy: 0.9273\n",
            "Epoch 13/50\n",
            "403/403 [==============================] - 191s 474ms/step - loss: 0.2085 - accuracy: 0.9275 - val_loss: 0.1381 - val_accuracy: 0.9505\n",
            "Epoch 14/50\n",
            "403/403 [==============================] - 192s 477ms/step - loss: 0.1833 - accuracy: 0.9352 - val_loss: 0.1905 - val_accuracy: 0.9288\n",
            "Epoch 15/50\n",
            "403/403 [==============================] - 192s 476ms/step - loss: 0.1895 - accuracy: 0.9331 - val_loss: 0.1791 - val_accuracy: 0.9323\n",
            "Epoch 16/50\n",
            "403/403 [==============================] - 190s 472ms/step - loss: 0.1683 - accuracy: 0.9392 - val_loss: 0.1460 - val_accuracy: 0.9471\n",
            "Epoch 17/50\n",
            "403/403 [==============================] - 192s 477ms/step - loss: 0.1613 - accuracy: 0.9441 - val_loss: 0.1615 - val_accuracy: 0.9365\n",
            "Epoch 18/50\n",
            "403/403 [==============================] - 193s 480ms/step - loss: 0.1440 - accuracy: 0.9486 - val_loss: 0.1275 - val_accuracy: 0.9539\n",
            "Epoch 19/50\n",
            "403/403 [==============================] - 190s 472ms/step - loss: 0.1512 - accuracy: 0.9474 - val_loss: 0.1869 - val_accuracy: 0.9294\n",
            "Epoch 20/50\n",
            "403/403 [==============================] - 189s 469ms/step - loss: 0.1396 - accuracy: 0.9499 - val_loss: 0.1543 - val_accuracy: 0.9450\n",
            "Epoch 21/50\n",
            "403/403 [==============================] - 190s 471ms/step - loss: 0.1334 - accuracy: 0.9536 - val_loss: 0.1551 - val_accuracy: 0.9413\n",
            "Epoch 22/50\n",
            "403/403 [==============================] - 190s 472ms/step - loss: 0.1407 - accuracy: 0.9514 - val_loss: 0.1494 - val_accuracy: 0.9444\n",
            "Epoch 23/50\n",
            "403/403 [==============================] - 190s 471ms/step - loss: 0.1204 - accuracy: 0.9595 - val_loss: 0.2176 - val_accuracy: 0.9383\n",
            "Epoch 24/50\n",
            "403/403 [==============================] - 189s 470ms/step - loss: 0.1245 - accuracy: 0.9580 - val_loss: 0.1328 - val_accuracy: 0.9470\n",
            "Epoch 25/50\n",
            "403/403 [==============================] - 189s 469ms/step - loss: 0.1354 - accuracy: 0.9551 - val_loss: 0.1339 - val_accuracy: 0.9518\n",
            "Epoch 26/50\n",
            "403/403 [==============================] - 190s 470ms/step - loss: 0.1006 - accuracy: 0.9641 - val_loss: 0.1684 - val_accuracy: 0.9437\n",
            "Epoch 27/50\n",
            "403/403 [==============================] - 190s 472ms/step - loss: 0.1280 - accuracy: 0.9574 - val_loss: 0.1925 - val_accuracy: 0.9352\n",
            "Epoch 28/50\n",
            "403/403 [==============================] - 191s 475ms/step - loss: 0.1185 - accuracy: 0.9579 - val_loss: 0.2309 - val_accuracy: 0.9268\n",
            "Epoch 29/50\n",
            "403/403 [==============================] - 194s 481ms/step - loss: 0.1073 - accuracy: 0.9649 - val_loss: 0.1316 - val_accuracy: 0.9508\n",
            "Epoch 30/50\n",
            "403/403 [==============================] - 199s 493ms/step - loss: 0.1015 - accuracy: 0.9664 - val_loss: 0.2274 - val_accuracy: 0.9367\n",
            "Epoch 31/50\n",
            "403/403 [==============================] - 198s 491ms/step - loss: 0.1010 - accuracy: 0.9641 - val_loss: 0.2406 - val_accuracy: 0.9339\n",
            "Epoch 32/50\n",
            "403/403 [==============================] - 211s 524ms/step - loss: 0.1046 - accuracy: 0.9638 - val_loss: 0.2630 - val_accuracy: 0.9233\n",
            "Epoch 33/50\n",
            "403/403 [==============================] - 209s 520ms/step - loss: 0.1048 - accuracy: 0.9650 - val_loss: 0.1688 - val_accuracy: 0.9481\n",
            "Epoch 34/50\n",
            "403/403 [==============================] - 190s 471ms/step - loss: 0.1031 - accuracy: 0.9642 - val_loss: 0.1392 - val_accuracy: 0.9544\n",
            "Epoch 35/50\n",
            "403/403 [==============================] - 189s 469ms/step - loss: 0.0937 - accuracy: 0.9681 - val_loss: 0.2921 - val_accuracy: 0.9220\n",
            "Epoch 36/50\n",
            "403/403 [==============================] - 189s 468ms/step - loss: 0.1036 - accuracy: 0.9660 - val_loss: 0.2120 - val_accuracy: 0.9318\n",
            "Epoch 37/50\n",
            "403/403 [==============================] - 190s 470ms/step - loss: 0.0822 - accuracy: 0.9718 - val_loss: 0.2980 - val_accuracy: 0.9157\n",
            "Epoch 38/50\n",
            "403/403 [==============================] - 190s 470ms/step - loss: 0.0855 - accuracy: 0.9724 - val_loss: 0.1583 - val_accuracy: 0.9455\n",
            "Epoch 39/50\n",
            "403/403 [==============================] - 190s 472ms/step - loss: 0.1013 - accuracy: 0.9652 - val_loss: 0.2710 - val_accuracy: 0.9118\n",
            "Epoch 40/50\n",
            "403/403 [==============================] - 188s 468ms/step - loss: 0.1001 - accuracy: 0.9662 - val_loss: 0.1683 - val_accuracy: 0.9449\n",
            "Epoch 41/50\n",
            "403/403 [==============================] - 190s 471ms/step - loss: 0.0825 - accuracy: 0.9715 - val_loss: 0.2413 - val_accuracy: 0.9276\n",
            "Epoch 42/50\n",
            "403/403 [==============================] - 189s 470ms/step - loss: 0.0706 - accuracy: 0.9757 - val_loss: 0.2898 - val_accuracy: 0.9294\n",
            "Epoch 43/50\n",
            "403/403 [==============================] - 190s 472ms/step - loss: 0.1007 - accuracy: 0.9687 - val_loss: 0.1962 - val_accuracy: 0.9405\n",
            "Epoch 44/50\n",
            "403/403 [==============================] - 189s 469ms/step - loss: 0.0914 - accuracy: 0.9700 - val_loss: 0.2306 - val_accuracy: 0.9410\n",
            "Epoch 45/50\n",
            "403/403 [==============================] - 210s 521ms/step - loss: 0.0847 - accuracy: 0.9715 - val_loss: 0.2783 - val_accuracy: 0.9317\n",
            "Epoch 46/50\n",
            "403/403 [==============================] - 210s 520ms/step - loss: 0.0714 - accuracy: 0.9759 - val_loss: 0.1650 - val_accuracy: 0.9479\n",
            "Epoch 47/50\n",
            "403/403 [==============================] - 190s 470ms/step - loss: 0.0797 - accuracy: 0.9740 - val_loss: 0.1141 - val_accuracy: 0.9610\n",
            "Epoch 48/50\n",
            "403/403 [==============================] - 209s 519ms/step - loss: 0.0828 - accuracy: 0.9718 - val_loss: 0.3168 - val_accuracy: 0.9334\n",
            "Epoch 49/50\n",
            "403/403 [==============================] - 189s 470ms/step - loss: 0.0730 - accuracy: 0.9753 - val_loss: 0.3633 - val_accuracy: 0.9238\n",
            "Epoch 50/50\n",
            "403/403 [==============================] - 190s 471ms/step - loss: 0.0919 - accuracy: 0.9691 - val_loss: 0.2048 - val_accuracy: 0.9402\n"
          ]
        }
      ]
    },
    {
      "cell_type": "code",
      "source": [
        "# Plot the chart for accuracy and loss on both training and validation\n",
        "acc = history.history['accuracy']\n",
        "val_acc = history.history['val_accuracy']\n",
        "loss = history.history['loss']\n",
        "val_loss = history.history['val_loss']\n",
        "\n",
        "epochs = range(len(acc))\n",
        "\n",
        "plt.plot(epochs, acc, 'r', label='Training accuracy')\n",
        "plt.plot(epochs, val_acc, 'b', label='Validation accuracy')\n",
        "plt.title('Training and validation accuracy')\n",
        "plt.legend()\n",
        "plt.figure()\n",
        "\n",
        "plt.plot(epochs, loss, 'r', label='Training Loss')\n",
        "plt.plot(epochs, val_loss, 'b', label='Validation Loss')\n",
        "plt.title('Training and validation loss')\n",
        "plt.legend()\n",
        "\n",
        "plt.show()"
      ],
      "metadata": {
        "colab": {
          "base_uri": "https://localhost:8080/",
          "height": 887
        },
        "id": "Qk-fNTjnwMlI",
        "outputId": "ec39379c-1d3a-4777-ac54-19d29ff3ed9e"
      },
      "execution_count": 26,
      "outputs": [
        {
          "output_type": "display_data",
          "data": {
            "text/plain": [
              "<Figure size 640x480 with 1 Axes>"
            ],
            "image/png": "[encoded data removed]"
          },
          "metadata": {}
        },
        {
          "output_type": "display_data",
          "data": {
            "text/plain": [
              "<Figure size 640x480 with 1 Axes>"
            ],
            "image/png": "[encoded data removed]"
          },
          "metadata": {}
        }
      ]
    },
    {
      "cell_type": "markdown",
      "source": [
        "## Evaluate The Model"
      ],
      "metadata": {
        "id": "KDB--ma36hTs"
      }
    },
    {
      "cell_type": "code",
      "source": [
        "# Training and validation accuracy and loss\n",
        "train_accuracy = history.history['accuracy']\n",
        "val_accuracy = history.history['val_accuracy']\n",
        "train_loss = history.history['loss']\n",
        "val_loss = history.history['val_loss']\n",
        "\n",
        "# Plot training and validation accuracy\n",
        "plt.figure(figsize=(10, 5))\n",
        "plt.plot(train_accuracy, label='Training Accuracy')\n",
        "plt.plot(val_accuracy, label='Validation Accuracy')\n",
        "plt.title('Training and Validation Accuracy')\n",
        "plt.xlabel('Epoch')\n",
        "plt.ylabel('Accuracy')\n",
        "plt.legend()\n",
        "plt.show()\n",
        "\n",
        "# Plot training and validation loss\n",
        "plt.figure(figsize=(10, 5))\n",
        "plt.plot(train_loss, label='Training Loss')\n",
        "plt.plot(val_loss, label='Validation Loss')\n",
        "plt.title('Training and Validation Loss')\n",
        "plt.xlabel('Epoch')\n",
        "plt.ylabel('Loss')\n",
        "plt.legend()\n",
        "plt.show()\n",
        "\n",
        "# Evaluation results\n",
        "val_loss, val_accuracy = model.evaluate(validation_generator, verbose=2)\n",
        "val_accuracy_percent = val_accuracy * 100\n",
        "print(f\"Validation Loss: {val_loss:.4f}\")\n",
        "print(f\"Validation Accuracy: {val_accuracy_percent:.2f}%\")"
      ],
      "metadata": {
        "colab": {
          "base_uri": "https://localhost:8080/",
          "height": 1000
        },
        "id": "8zVYoZai5gpD",
        "outputId": "0df3c735-3004-4ba2-905e-f3ade6b8826c"
      },
      "execution_count": 36,
      "outputs": [
        {
          "output_type": "display_data",
          "data": {
            "text/plain": [
              "<Figure size 1000x500 with 1 Axes>"
            ],
            "image/png": "[encoded data removed]"
          },
          "metadata": {}
        },
        {
          "output_type": "display_data",
          "data": {
            "text/plain": [
              "<Figure size 1000x500 with 1 Axes>"
            ],
            "image/png": "[encoded data removed]"
          },
          "metadata": {}
        },
        {
          "output_type": "stream",
          "name": "stdout",
          "text": [
            "311/311 - 22s - loss: 0.2048 - accuracy: 0.9402 - 22s/epoch - 72ms/step\n",
            "Validation Loss: 0.2048\n",
            "Validation Accuracy: 94.02%\n"
          ]
        }
      ]
    },
    {
      "cell_type": "markdown",
      "source": [
        "## Save and Convert The Model"
      ],
      "metadata": {
        "id": "fckEATlD5Pig"
      }
    },
    {
      "cell_type": "code",
      "source": [
        "# Save the model\n",
        "model.save('my_model.h5')\n",
        "print(\"Model saved to 'my_model.h5'\")"
      ],
      "metadata": {
        "colab": {
          "base_uri": "https://localhost:8080/"
        },
        "id": "3lmRMl0dbZ0r",
        "outputId": "de456165-b01c-40a5-bad1-0fb3cb75c78a"
      },
      "execution_count": 37,
      "outputs": [
        {
          "output_type": "stream",
          "name": "stdout",
          "text": [
            "Model saved to 'my_model.h5'\n"
          ]
        },
        {
          "output_type": "stream",
          "name": "stderr",
          "text": [
            "/usr/local/lib/python3.10/dist-packages/keras/src/engine/training.py:3103: UserWarning: You are saving your model as an HDF5 file via `model.save()`. This file format is considered legacy. We recommend using instead the native Keras format, e.g. `model.save('my_model.keras')`.\n",
            "  saving_api.save_model(\n"
          ]
        }
      ]
    },
    {
      "cell_type": "code",
      "source": [
        "# Load the saved Keras model\n",
        "model = tf.keras.models.load_model('my_model.h5')\n",
        "\n",
        "# Convert the model to TFLite format\n",
        "converter = tf.lite.TFLiteConverter.from_keras_model(model)\n",
        "tflite_model = converter.convert()\n",
        "\n",
        "# Save the converted TFLite model\n",
        "with open('model.tflite', 'wb') as f:\n",
        "    f.write(tflite_model)\n",
        "\n",
        "print(\"Model converted to TFLite and saved as 'model.tflite'\")"
      ],
      "metadata": {
        "colab": {
          "base_uri": "https://localhost:8080/"
        },
        "id": "d8XYroVwbp5o",
        "outputId": "8537116a-da1e-49e6-8ae6-30ac388e3d9e"
      },
      "execution_count": 38,
      "outputs": [
        {
          "output_type": "stream",
          "name": "stdout",
          "text": [
            "Model converted to TFLite and saved as 'model.tflite'\n"
          ]
        }
      ]
    },
    {
      "cell_type": "markdown",
      "source": [
        "## Model Prediction"
      ],
      "metadata": {
        "id": "siMCMx3K5e5b"
      }
    },
    {
      "cell_type": "code",
      "source": [
        "import numpy as np\n",
        "from google.colab import files\n",
        "from tensorflow.keras.preprocessing import image\n",
        "\n",
        "def predict_uploaded_image(model):\n",
        "    uploaded = files.upload()\n",
        "\n",
        "    for fn in uploaded.keys():\n",
        "        # Load the image\n",
        "        img = image.load_img(fn, target_size=(150, 150))\n",
        "        # Convert the image to an array and Scale the image\n",
        "        x = image.img_to_array(img)\n",
        "        x = np.expand_dims(x, axis=0)\n",
        "        x = x / 255.0\n",
        "        # Make predictions\n",
        "        classes = model.predict(x, batch_size=10)\n",
        "        # Get the class indices\n",
        "        class_indices = train_generator.class_indices\n",
        "        # Get the predicted class label\n",
        "        predicted_class = list(class_indices.keys())[np.argmax(classes)]\n",
        "        print(\"File:\", fn)\n",
        "        print(\"Predicted Class:\", predicted_class)\n",
        "        print(\"Probabilities:\", classes)\n",
        "\n",
        "predict_uploaded_image(model)"
      ],
      "metadata": {
        "colab": {
          "base_uri": "https://localhost:8080/",
          "height": 183
        },
        "id": "i6BNoGmP68Ng",
        "outputId": "0c6c0405-39e9-4ebf-dcab-d67f0404443c"
      },
      "execution_count": 34,
      "outputs": [
        {
          "output_type": "display_data",
          "data": {
            "text/plain": [
              "<IPython.core.display.HTML object>"
            ],
            "text/html": [
              "\n",
              "     <input type=\"file\" id=\"files-8dc9f3b5-fcf6-44e0-82e6-9fc0016c3f0f\" name=\"files[]\" multiple disabled\n",
              "        style=\"border:none\" />\n",
              "     <output id=\"result-8dc9f3b5-fcf6-44e0-82e6-9fc0016c3f0f\">\n",
              "      Upload widget is only available when the cell has been executed in the\n",
              "      current browser session. Please rerun this cell to enable.\n",
              "      </output>\n",
              "      <script>// Copyright 2017 Google LLC\n",
              "//\n",
              "// Licensed under the Apache License, Version 2.0 (the \"License\");\n",
              "// you may not use this file except in compliance with the License.\n",
              "// You may obtain a copy of the License at\n",
              "//\n",
              "//      http://www.apache.org/licenses/LICENSE-2.0\n",
              "//\n",
              "// Unless required by applicable law or agreed to in writing, software\n",
              "// distributed under the License is distributed on an \"AS IS\" BASIS,\n",
              "// WITHOUT WARRANTIES OR CONDITIONS OF ANY KIND, either express or implied.\n",
              "// See the License for the specific language governing permissions and\n",
              "// limitations under the License.\n",
              "\n",
              "/**\n",
              " * @fileoverview Helpers for google.colab Python module.\n",
              " */\n",
              "(function(scope) {\n",
              "function span(text, styleAttributes = {}) {\n",
              "  const element = document.createElement('span');\n",
              "  element.textContent = text;\n",
              "  for (const key of Object.keys(styleAttributes)) {\n",
              "    element.style[key] = styleAttributes[key];\n",
              "  }\n",
              "  return element;\n",
              "}\n",
              "\n",
              "// Max number of bytes which will be uploaded at a time.\n",
              "const MAX_PAYLOAD_SIZE = 100 * 1024;\n",
              "\n",
              "function _uploadFiles(inputId, outputId) {\n",
              "  const steps = uploadFilesStep(inputId, outputId);\n",
              "  const outputElement = document.getElementById(outputId);\n",
              "  // Cache steps on the outputElement to make it available for the next call\n",
              "  // to uploadFilesContinue from Python.\n",
              "  outputElement.steps = steps;\n",
              "\n",
              "  return _uploadFilesContinue(outputId);\n",
              "}\n",
              "\n",
              "// This is roughly an async generator (not supported in the browser yet),\n",
              "// where there are multiple asynchronous steps and the Python side is going\n",
              "// to poll for completion of each step.\n",
              "// This uses a Promise to block the python side on completion of each step,\n",
              "// then passes the result of the previous step as the input to the next step.\n",
              "function _uploadFilesContinue(outputId) {\n",
              "  const outputElement = document.getElementById(outputId);\n",
              "  const steps = outputElement.steps;\n",
              "\n",
              "  const next = steps.next(outputElement.lastPromiseValue);\n",
              "  return Promise.resolve(next.value.promise).then((value) => {\n",
              "    // Cache the last promise value to make it available to the next\n",
              "    // step of the generator.\n",
              "    outputElement.lastPromiseValue = value;\n",
              "    return next.value.response;\n",
              "  });\n",
              "}\n",
              "\n",
              "/**\n",
              " * Generator function which is called between each async step of the upload\n",
              " * process.\n",
              " * @param {string} inputId Element ID of the input file picker element.\n",
              " * @param {string} outputId Element ID of the output display.\n",
              " * @return {!Iterable<!Object>} Iterable of next steps.\n",
              " */\n",
              "function* uploadFilesStep(inputId, outputId) {\n",
              "  const inputElement = document.getElementById(inputId);\n",
              "  inputElement.disabled = false;\n",
              "\n",
              "  const outputElement = document.getElementById(outputId);\n",
              "  outputElement.innerHTML = '';\n",
              "\n",
              "  const pickedPromise = new Promise((resolve) => {\n",
              "    inputElement.addEventListener('change', (e) => {\n",
              "      resolve(e.target.files);\n",
              "    });\n",
              "  });\n",
              "\n",
              "  const cancel = document.createElement('button');\n",
              "  inputElement.parentElement.appendChild(cancel);\n",
              "  cancel.textContent = 'Cancel upload';\n",
              "  const cancelPromise = new Promise((resolve) => {\n",
              "    cancel.onclick = () => {\n",
              "      resolve(null);\n",
              "    };\n",
              "  });\n",
              "\n",
              "  // Wait for the user to pick the files.\n",
              "  const files = yield {\n",
              "    promise: Promise.race([pickedPromise, cancelPromise]),\n",
              "    response: {\n",
              "      action: 'starting',\n",
              "    }\n",
              "  };\n",
              "\n",
              "  cancel.remove();\n",
              "\n",
              "  // Disable the input element since further picks are not allowed.\n",
              "  inputElement.disabled = true;\n",
              "\n",
              "  if (!files) {\n",
              "    return {\n",
              "      response: {\n",
              "        action: 'complete',\n",
              "      }\n",
              "    };\n",
              "  }\n",
              "\n",
              "  for (const file of files) {\n",
              "    const li = document.createElement('li');\n",
              "    li.append(span(file.name, {fontWeight: 'bold'}));\n",
              "    li.append(span(\n",
              "        `(${file.type || 'n/a'}) - ${file.size} bytes, ` +\n",
              "        `last modified: ${\n",
              "            file.lastModifiedDate ? file.lastModifiedDate.toLocaleDateString() :\n",
              "                                    'n/a'} - `));\n",
              "    const percent = span('0% done');\n",
              "    li.appendChild(percent);\n",
              "\n",
              "    outputElement.appendChild(li);\n",
              "\n",
              "    const fileDataPromise = new Promise((resolve) => {\n",
              "      const reader = new FileReader();\n",
              "      reader.onload = (e) => {\n",
              "        resolve(e.target.result);\n",
              "      };\n",
              "      reader.readAsArrayBuffer(file);\n",
              "    });\n",
              "    // Wait for the data to be ready.\n",
              "    let fileData = yield {\n",
              "      promise: fileDataPromise,\n",
              "      response: {\n",
              "        action: 'continue',\n",
              "      }\n",
              "    };\n",
              "\n",
              "    // Use a chunked sending to avoid message size limits. See b/62115660.\n",
              "    let position = 0;\n",
              "    do {\n",
              "      const length = Math.min(fileData.byteLength - position, MAX_PAYLOAD_SIZE);\n",
              "      const chunk = new Uint8Array(fileData, position, length);\n",
              "      position += length;\n",
              "\n",
              "      const base64 = btoa(String.fromCharCode.apply(null, chunk));\n",
              "      yield {\n",
              "        response: {\n",
              "          action: 'append',\n",
              "          file: file.name,\n",
              "          data: base64,\n",
              "        },\n",
              "      };\n",
              "\n",
              "      let percentDone = fileData.byteLength === 0 ?\n",
              "          100 :\n",
              "          Math.round((position / fileData.byteLength) * 100);\n",
              "      percent.textContent = `${percentDone}% done`;\n",
              "\n",
              "    } while (position < fileData.byteLength);\n",
              "  }\n",
              "\n",
              "  // All done.\n",
              "  yield {\n",
              "    response: {\n",
              "      action: 'complete',\n",
              "    }\n",
              "  };\n",
              "}\n",
              "\n",
              "scope.google = scope.google || {};\n",
              "scope.google.colab = scope.google.colab || {};\n",
              "scope.google.colab._files = {\n",
              "  _uploadFiles,\n",
              "  _uploadFilesContinue,\n",
              "};\n",
              "})(self);\n",
              "</script> "
            ]
          },
          "metadata": {}
        },
        {
          "output_type": "stream",
          "name": "stdout",
          "text": [
            "Saving tomat.jpg to tomat.jpg\n",
            "1/1 [==============================] - 0s 18ms/step\n",
            "File: tomat.jpg\n",
            "Predicted Class: freshtomato\n",
            "Probabilities: [[2.6796440e-10 3.9133621e-15 1.1947192e-16 3.4228563e-13 2.2952847e-10\n",
            "  9.9999797e-01 7.4628741e-12 3.6364569e-15 2.3851349e-10 1.7006249e-12\n",
            "  3.3025757e-10 1.9918232e-06]]\n"
          ]
        }
      ]
    },
    {
      "cell_type": "code",
      "source": [
        "# # Predict uploaded image\n",
        "# import numpy as np\n",
        "# from google.colab import files\n",
        "# from tensorflow.keras.preprocessing import image\n",
        "\n",
        "# def predict_uploaded_image(model, train_generator):\n",
        "#     uploaded = files.upload()\n",
        "\n",
        "#     for fn in uploaded.keys():\n",
        "#         img = image.load_img(fn, target_size=(150, 150))\n",
        "#         x = image.img_to_array(img)\n",
        "#         x = np.expand_dims(x, axis=0)\n",
        "#         x = x / 255.0\n",
        "#         classes = model.predict(x)\n",
        "#         class_indices = train_generator.class_indices\n",
        "#         class_labels = list(class_indices.keys())\n",
        "#         predicted_class = class_labels[np.argmax(classes)]\n",
        "#         print(\"File:\", fn)\n",
        "#         print(\"Predicted Class:\", predicted_class)\n",
        "#         print(\"Probabilities:\", classes)\n",
        "\n",
        "# predict_uploaded_image(model, train_generator)"
      ],
      "metadata": {
        "colab": {
          "base_uri": "https://localhost:8080/",
          "height": 183
        },
        "id": "kXCnNp3rcksf",
        "outputId": "deac1d38-f137-40e6-ecc9-28658b24389e"
      },
      "execution_count": 35,
      "outputs": [
        {
          "output_type": "display_data",
          "data": {
            "text/plain": [
              "<IPython.core.display.HTML object>"
            ],
            "text/html": [
              "\n",
              "     <input type=\"file\" id=\"files-e9d49f8a-d057-49f8-a7f5-4c0c6be72773\" name=\"files[]\" multiple disabled\n",
              "        style=\"border:none\" />\n",
              "     <output id=\"result-e9d49f8a-d057-49f8-a7f5-4c0c6be72773\">\n",
              "      Upload widget is only available when the cell has been executed in the\n",
              "      current browser session. Please rerun this cell to enable.\n",
              "      </output>\n",
              "      <script>// Copyright 2017 Google LLC\n",
              "//\n",
              "// Licensed under the Apache License, Version 2.0 (the \"License\");\n",
              "// you may not use this file except in compliance with the License.\n",
              "// You may obtain a copy of the License at\n",
              "//\n",
              "//      http://www.apache.org/licenses/LICENSE-2.0\n",
              "//\n",
              "// Unless required by applicable law or agreed to in writing, software\n",
              "// distributed under the License is distributed on an \"AS IS\" BASIS,\n",
              "// WITHOUT WARRANTIES OR CONDITIONS OF ANY KIND, either express or implied.\n",
              "// See the License for the specific language governing permissions and\n",
              "// limitations under the License.\n",
              "\n",
              "/**\n",
              " * @fileoverview Helpers for google.colab Python module.\n",
              " */\n",
              "(function(scope) {\n",
              "function span(text, styleAttributes = {}) {\n",
              "  const element = document.createElement('span');\n",
              "  element.textContent = text;\n",
              "  for (const key of Object.keys(styleAttributes)) {\n",
              "    element.style[key] = styleAttributes[key];\n",
              "  }\n",
              "  return element;\n",
              "}\n",
              "\n",
              "// Max number of bytes which will be uploaded at a time.\n",
              "const MAX_PAYLOAD_SIZE = 100 * 1024;\n",
              "\n",
              "function _uploadFiles(inputId, outputId) {\n",
              "  const steps = uploadFilesStep(inputId, outputId);\n",
              "  const outputElement = document.getElementById(outputId);\n",
              "  // Cache steps on the outputElement to make it available for the next call\n",
              "  // to uploadFilesContinue from Python.\n",
              "  outputElement.steps = steps;\n",
              "\n",
              "  return _uploadFilesContinue(outputId);\n",
              "}\n",
              "\n",
              "// This is roughly an async generator (not supported in the browser yet),\n",
              "// where there are multiple asynchronous steps and the Python side is going\n",
              "// to poll for completion of each step.\n",
              "// This uses a Promise to block the python side on completion of each step,\n",
              "// then passes the result of the previous step as the input to the next step.\n",
              "function _uploadFilesContinue(outputId) {\n",
              "  const outputElement = document.getElementById(outputId);\n",
              "  const steps = outputElement.steps;\n",
              "\n",
              "  const next = steps.next(outputElement.lastPromiseValue);\n",
              "  return Promise.resolve(next.value.promise).then((value) => {\n",
              "    // Cache the last promise value to make it available to the next\n",
              "    // step of the generator.\n",
              "    outputElement.lastPromiseValue = value;\n",
              "    return next.value.response;\n",
              "  });\n",
              "}\n",
              "\n",
              "/**\n",
              " * Generator function which is called between each async step of the upload\n",
              " * process.\n",
              " * @param {string} inputId Element ID of the input file picker element.\n",
              " * @param {string} outputId Element ID of the output display.\n",
              " * @return {!Iterable<!Object>} Iterable of next steps.\n",
              " */\n",
              "function* uploadFilesStep(inputId, outputId) {\n",
              "  const inputElement = document.getElementById(inputId);\n",
              "  inputElement.disabled = false;\n",
              "\n",
              "  const outputElement = document.getElementById(outputId);\n",
              "  outputElement.innerHTML = '';\n",
              "\n",
              "  const pickedPromise = new Promise((resolve) => {\n",
              "    inputElement.addEventListener('change', (e) => {\n",
              "      resolve(e.target.files);\n",
              "    });\n",
              "  });\n",
              "\n",
              "  const cancel = document.createElement('button');\n",
              "  inputElement.parentElement.appendChild(cancel);\n",
              "  cancel.textContent = 'Cancel upload';\n",
              "  const cancelPromise = new Promise((resolve) => {\n",
              "    cancel.onclick = () => {\n",
              "      resolve(null);\n",
              "    };\n",
              "  });\n",
              "\n",
              "  // Wait for the user to pick the files.\n",
              "  const files = yield {\n",
              "    promise: Promise.race([pickedPromise, cancelPromise]),\n",
              "    response: {\n",
              "      action: 'starting',\n",
              "    }\n",
              "  };\n",
              "\n",
              "  cancel.remove();\n",
              "\n",
              "  // Disable the input element since further picks are not allowed.\n",
              "  inputElement.disabled = true;\n",
              "\n",
              "  if (!files) {\n",
              "    return {\n",
              "      response: {\n",
              "        action: 'complete',\n",
              "      }\n",
              "    };\n",
              "  }\n",
              "\n",
              "  for (const file of files) {\n",
              "    const li = document.createElement('li');\n",
              "    li.append(span(file.name, {fontWeight: 'bold'}));\n",
              "    li.append(span(\n",
              "        `(${file.type || 'n/a'}) - ${file.size} bytes, ` +\n",
              "        `last modified: ${\n",
              "            file.lastModifiedDate ? file.lastModifiedDate.toLocaleDateString() :\n",
              "                                    'n/a'} - `));\n",
              "    const percent = span('0% done');\n",
              "    li.appendChild(percent);\n",
              "\n",
              "    outputElement.appendChild(li);\n",
              "\n",
              "    const fileDataPromise = new Promise((resolve) => {\n",
              "      const reader = new FileReader();\n",
              "      reader.onload = (e) => {\n",
              "        resolve(e.target.result);\n",
              "      };\n",
              "      reader.readAsArrayBuffer(file);\n",
              "    });\n",
              "    // Wait for the data to be ready.\n",
              "    let fileData = yield {\n",
              "      promise: fileDataPromise,\n",
              "      response: {\n",
              "        action: 'continue',\n",
              "      }\n",
              "    };\n",
              "\n",
              "    // Use a chunked sending to avoid message size limits. See b/62115660.\n",
              "    let position = 0;\n",
              "    do {\n",
              "      const length = Math.min(fileData.byteLength - position, MAX_PAYLOAD_SIZE);\n",
              "      const chunk = new Uint8Array(fileData, position, length);\n",
              "      position += length;\n",
              "\n",
              "      const base64 = btoa(String.fromCharCode.apply(null, chunk));\n",
              "      yield {\n",
              "        response: {\n",
              "          action: 'append',\n",
              "          file: file.name,\n",
              "          data: base64,\n",
              "        },\n",
              "      };\n",
              "\n",
              "      let percentDone = fileData.byteLength === 0 ?\n",
              "          100 :\n",
              "          Math.round((position / fileData.byteLength) * 100);\n",
              "      percent.textContent = `${percentDone}% done`;\n",
              "\n",
              "    } while (position < fileData.byteLength);\n",
              "  }\n",
              "\n",
              "  // All done.\n",
              "  yield {\n",
              "    response: {\n",
              "      action: 'complete',\n",
              "    }\n",
              "  };\n",
              "}\n",
              "\n",
              "scope.google = scope.google || {};\n",
              "scope.google.colab = scope.google.colab || {};\n",
              "scope.google.colab._files = {\n",
              "  _uploadFiles,\n",
              "  _uploadFilesContinue,\n",
              "};\n",
              "})(self);\n",
              "</script> "
            ]
          },
          "metadata": {}
        },
        {
          "output_type": "stream",
          "name": "stdout",
          "text": [
            "Saving rottenapple_435795946.jpg to rottenapple_435795946.jpg\n",
            "1/1 [==============================] - 0s 18ms/step\n",
            "File: rottenapple_435795946.jpg\n",
            "Predicted Class: rottenapples\n",
            "Probabilities: [[2.3350170e-16 8.3435768e-14 7.6976574e-25 1.4563700e-15 7.2290158e-07\n",
            "  3.5750707e-13 9.4148755e-01 1.8073807e-06 3.6510994e-10 5.8427382e-02\n",
            "  8.2594030e-05 2.0679838e-09]]\n"
          ]
        }
      ]
    }
  ]
}